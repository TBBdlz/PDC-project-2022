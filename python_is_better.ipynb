{
 "cells": [
  {
   "cell_type": "code",
   "execution_count": 2,
   "id": "8404ca2f-1ebc-4b0a-8606-cf283996dbc9",
   "metadata": {
    "tags": []
   },
   "outputs": [],
   "source": [
    "import numpy as np\n",
    "import sympy as syp\n",
    "import matplotlib.pyplot as plt"
   ]
  },
  {
   "cell_type": "code",
   "execution_count": 3,
   "id": "71f4e23a-e892-47af-b946-e5226afedfe4",
   "metadata": {
    "tags": []
   },
   "outputs": [
    {
     "name": "stdout",
     "output_type": "stream",
     "text": [
      "x0 = 68\n"
     ]
    }
   ],
   "source": [
    "id_1 = 6_330_401_726\n",
    "id_2 = 6_330_401_742\n",
    "x0 = (id_1 + id_2) % 100\n",
    "print(f\"x0 = {x0}\")"
   ]
  },
  {
   "cell_type": "code",
   "execution_count": 10,
   "id": "adea2ff1-6256-4ce4-a1d5-43ae3d0b55b6",
   "metadata": {
    "tags": []
   },
   "outputs": [],
   "source": [
    "def xn(n: int) -> int:\n",
    "    if n == 0: # basecase return x0\n",
    "        return x0\n",
    "    elif n == 1: # basecase return x1 = 7\n",
    "        return 7\n",
    "    elif n >= 2:\n",
    "        return (3 * xn(n-1) + 2 * xn(n-2)) % 19 + 2\n",
    "    else:\n",
    "        raise ValueError(\"Parameter n must be non-negative\")"
   ]
  },
  {
   "cell_type": "code",
   "execution_count": 11,
   "id": "5c7eb8a3-7340-4102-bef2-79cc924e087d",
   "metadata": {
    "tags": []
   },
   "outputs": [
    {
     "name": "stdout",
     "output_type": "stream",
     "text": [
      "x0 = 68\n",
      "x1 = 7\n",
      "x2 = 7\n",
      "x3 = 18\n",
      "x4 = 13\n",
      "x5 = 20\n",
      "x6 = 12\n",
      "x7 = 2\n",
      "x8 = 13\n",
      "x9 = 7\n",
      "x10 = 11\n",
      "x11 = 11\n",
      "x12 = 19\n",
      "x13 = 5\n",
      "x14 = 17\n",
      "x15 = 6\n",
      "x16 = 16\n",
      "x17 = 5\n",
      "x18 = 11\n",
      "x19 = 7\n",
      "x20 = 7\n"
     ]
    }
   ],
   "source": [
    "for i in range(21):\n",
    "    print(f\"x{i} = {xn(i)}\")"
   ]
  },
  {
   "cell_type": "code",
   "execution_count": 27,
   "id": "d5880d88-e1c7-4af2-860c-0ebccedcc416",
   "metadata": {
    "tags": []
   },
   "outputs": [],
   "source": [
    "x2 = xn(2)\n",
    "\n",
    "# define power-spectral function\n",
    "def Sx(f):\n",
    "    if abs(f) <= 120:\n",
    "        return 2 + ((5**x2 % 23) / 25)\n",
    "    else:\n",
    "        return 0"
   ]
  },
  {
   "cell_type": "code",
   "execution_count": 28,
   "id": "52438b38-ca11-4d03-9d86-dd7e553e4f79",
   "metadata": {
    "tags": []
   },
   "outputs": [
    {
     "data": {
      "text/plain": [
       "array([-3.        , -2.93939394, -2.87878788, -2.81818182, -2.75757576,\n",
       "       -2.6969697 , -2.63636364, -2.57575758, -2.51515152, -2.45454545,\n",
       "       -2.39393939, -2.33333333, -2.27272727, -2.21212121, -2.15151515,\n",
       "       -2.09090909, -2.03030303, -1.96969697, -1.90909091, -1.84848485,\n",
       "       -1.78787879, -1.72727273, -1.66666667, -1.60606061, -1.54545455,\n",
       "       -1.48484848, -1.42424242, -1.36363636, -1.3030303 , -1.24242424,\n",
       "       -1.18181818, -1.12121212, -1.06060606, -1.        , -0.93939394,\n",
       "       -0.87878788, -0.81818182, -0.75757576, -0.6969697 , -0.63636364,\n",
       "       -0.57575758, -0.51515152, -0.45454545, -0.39393939, -0.33333333,\n",
       "       -0.27272727, -0.21212121, -0.15151515, -0.09090909, -0.03030303,\n",
       "        0.03030303,  0.09090909,  0.15151515,  0.21212121,  0.27272727,\n",
       "        0.33333333,  0.39393939,  0.45454545,  0.51515152,  0.57575758,\n",
       "        0.63636364,  0.6969697 ,  0.75757576,  0.81818182,  0.87878788,\n",
       "        0.93939394,  1.        ,  1.06060606,  1.12121212,  1.18181818,\n",
       "        1.24242424,  1.3030303 ,  1.36363636,  1.42424242,  1.48484848,\n",
       "        1.54545455,  1.60606061,  1.66666667,  1.72727273,  1.78787879,\n",
       "        1.84848485,  1.90909091,  1.96969697,  2.03030303,  2.09090909,\n",
       "        2.15151515,  2.21212121,  2.27272727,  2.33333333,  2.39393939,\n",
       "        2.45454545,  2.51515152,  2.57575758,  2.63636364,  2.6969697 ,\n",
       "        2.75757576,  2.81818182,  2.87878788,  2.93939394,  3.        ])"
      ]
     },
     "execution_count": 28,
     "metadata": {},
     "output_type": "execute_result"
    }
   ],
   "source": [
    "f = np.linspace(-3, 3, 100)\n",
    "f"
   ]
  },
  {
   "cell_type": "code",
   "execution_count": 29,
   "id": "14ab38b5-5ec7-4e1d-b75a-d2edc816e260",
   "metadata": {
    "tags": []
   },
   "outputs": [
    {
     "ename": "ValueError",
     "evalue": "The truth value of an array with more than one element is ambiguous. Use a.any() or a.all()",
     "output_type": "error",
     "traceback": [
      "\u001b[0;31m---------------------------------------------------------------------------\u001b[0m",
      "\u001b[0;31mValueError\u001b[0m                                Traceback (most recent call last)",
      "Cell \u001b[0;32mIn [29], line 1\u001b[0m\n\u001b[0;32m----> 1\u001b[0m \u001b[43mSx\u001b[49m\u001b[43m(\u001b[49m\u001b[43mf\u001b[49m\u001b[43m)\u001b[49m\n",
      "Cell \u001b[0;32mIn [27], line 5\u001b[0m, in \u001b[0;36mSx\u001b[0;34m(f)\u001b[0m\n\u001b[1;32m      4\u001b[0m \u001b[38;5;28;01mdef\u001b[39;00m \u001b[38;5;21mSx\u001b[39m(f):\n\u001b[0;32m----> 5\u001b[0m     \u001b[38;5;28;01mif\u001b[39;00m \u001b[38;5;28mabs\u001b[39m(f) \u001b[38;5;241m<\u001b[39m\u001b[38;5;241m=\u001b[39m \u001b[38;5;241m120\u001b[39m:\n\u001b[1;32m      6\u001b[0m         \u001b[38;5;28;01mreturn\u001b[39;00m \u001b[38;5;241m2\u001b[39m \u001b[38;5;241m+\u001b[39m ((\u001b[38;5;241m5\u001b[39m\u001b[38;5;241m*\u001b[39m\u001b[38;5;241m*\u001b[39mx2 \u001b[38;5;241m%\u001b[39m \u001b[38;5;241m23\u001b[39m) \u001b[38;5;241m/\u001b[39m \u001b[38;5;241m25\u001b[39m)\n\u001b[1;32m      7\u001b[0m     \u001b[38;5;28;01melse\u001b[39;00m:\n",
      "\u001b[0;31mValueError\u001b[0m: The truth value of an array with more than one element is ambiguous. Use a.any() or a.all()"
     ]
    }
   ],
   "source": [
    "Sx(f)"
   ]
  }
 ],
 "metadata": {
  "kernelspec": {
   "display_name": "Python 3 (ipykernel)",
   "language": "python",
   "name": "python3"
  },
  "language_info": {
   "codemirror_mode": {
    "name": "ipython",
    "version": 3
   },
   "file_extension": ".py",
   "mimetype": "text/x-python",
   "name": "python",
   "nbconvert_exporter": "python",
   "pygments_lexer": "ipython3",
   "version": "3.10.6"
  }
 },
 "nbformat": 4,
 "nbformat_minor": 5
}
